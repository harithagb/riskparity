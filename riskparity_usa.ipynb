{
  "nbformat": 4,
  "nbformat_minor": 0,
  "metadata": {
    "colab": {
      "provenance": [],
      "authorship_tag": "ABX9TyP6uUn5jQfHCOC3Kq97NnmT",
      "include_colab_link": true
    },
    "kernelspec": {
      "name": "python3",
      "display_name": "Python 3"
    },
    "language_info": {
      "name": "python"
    }
  },
  "cells": [
    {
      "cell_type": "markdown",
      "metadata": {
        "id": "view-in-github",
        "colab_type": "text"
      },
      "source": [
        "<a href=\"https://colab.research.google.com/github/harithagb/riskparity/blob/main/riskparity_usa.ipynb\" target=\"_parent\"><img src=\"https://colab.research.google.com/assets/colab-badge.svg\" alt=\"Open In Colab\"/></a>"
      ]
    },
    {
      "cell_type": "code",
      "execution_count": null,
      "metadata": {
        "id": "pDABUrztN6Ya"
      },
      "outputs": [],
      "source": [
        "import numpy as np\n",
        "import pandas as pd\n",
        "import matplotlib.pyplot as plt"
      ]
    },
    {
      "cell_type": "code",
      "source": [
        "data = pd.read_excel('RiskParityUS00to23.xlsx')"
      ],
      "metadata": {
        "id": "eA7dYkdYOQ2Y"
      },
      "execution_count": null,
      "outputs": []
    },
    {
      "cell_type": "code",
      "source": [
        "# Convert the Date column to datetime type if it's not already\n",
        "data['Date'] = pd.to_datetime(data['Date'])\n",
        "\n",
        "# Set the Date column as the index\n",
        "data.set_index('Date', inplace=True)\n",
        "\n",
        "# Calculate daily excess returns for Russell and SP500\n",
        "data['Russell_Excess'] = data['Russell Returns'] - data['Daily Risk Free Rate']\n",
        "data['SP500_Excess'] = data['SP500 Returns'] - data['Daily Risk Free Rate']\n",
        "\n",
        "# Define a function to calculate the Sharpe ratio\n",
        "def calculate_sharpe_ratio(excess_returns):\n",
        "    mean_excess_return = excess_returns.mean() * 252  # Annualize the mean\n",
        "    std_excess_return = excess_returns.std() * (252 ** 0.5)  # Annualize the std deviation\n",
        "    return mean_excess_return / std_excess_return\n",
        "\n",
        "# Resample the data to calculate annual Sharpe ratios\n",
        "annual_sharpe_russell = data['Russell_Excess'].resample('A').apply(calculate_sharpe_ratio)\n",
        "annual_sharpe_sp500 = data['SP500_Excess'].resample('A').apply(calculate_sharpe_ratio)\n",
        "\n",
        "# Resample the data to calculate semi-annual Sharpe ratios\n",
        "semi_annual_sharpe_russell = data['Russell_Excess'].resample('2Q').apply(calculate_sharpe_ratio)\n",
        "semi_annual_sharpe_sp500 = data['SP500_Excess'].resample('2Q').apply(calculate_sharpe_ratio)\n",
        "\n",
        "# The Term Premiums column is assumed to be annual data already. If it's not, additional transformation will be needed.\n",
        "\n",
        "# You can then compare the Sharpe Ratios with the Term Premiums as required for your analysis.\n"
      ],
      "metadata": {
        "id": "tZlg0Zee5G69"
      },
      "execution_count": null,
      "outputs": []
    },
    {
      "cell_type": "code",
      "source": [
        "annual_sharpe_russell.to_csv(\"russell_annual.csv\")"
      ],
      "metadata": {
        "id": "dasyZClX5Ios"
      },
      "execution_count": null,
      "outputs": []
    },
    {
      "cell_type": "code",
      "source": [
        "annual_sharpe_sp500.to_csv(\"sp500_annual.csv\")"
      ],
      "metadata": {
        "id": "WyyFkXnj5Lvl"
      },
      "execution_count": null,
      "outputs": []
    },
    {
      "cell_type": "code",
      "source": [
        "semi_annual_sharpe_russell.to_csv('russell_semiannual.csv')"
      ],
      "metadata": {
        "id": "bKp6owH953zE"
      },
      "execution_count": null,
      "outputs": []
    },
    {
      "cell_type": "code",
      "source": [
        "semi_annual_sharpe_sp500.to_csv('sp500_semiannual.csv')"
      ],
      "metadata": {
        "id": "_yUOlVQB5_11"
      },
      "execution_count": null,
      "outputs": []
    },
    {
      "cell_type": "code",
      "source": [
        "annual_term_premiums = data['Term Premiums'].resample('A').mean()\n",
        "annual_term_premiums.to_csv('AnnualTermPremia.csv')"
      ],
      "metadata": {
        "id": "Iqh1dU8R6E86"
      },
      "execution_count": null,
      "outputs": []
    },
    {
      "cell_type": "code",
      "source": [
        "semi_annual_term_premiums = data['Term Premiums'].resample('2Q').mean()\n",
        "semi_annual_term_premiums.to_csv('SemiAnnTP.csv')"
      ],
      "metadata": {
        "id": "97p35Ve47Y87"
      },
      "execution_count": null,
      "outputs": []
    },
    {
      "cell_type": "code",
      "source": [],
      "metadata": {
        "id": "wSQfD-DV7dxy"
      },
      "execution_count": null,
      "outputs": []
    }
  ]
}